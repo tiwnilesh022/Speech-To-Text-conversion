{
 "cells": [
  {
   "cell_type": "code",
   "execution_count": 1,
   "metadata": {},
   "outputs": [
    {
     "name": "stdout",
     "output_type": "stream",
     "text": [
      "Requirement already satisfied: speechrecognition in c:\\programdata\\anaconda3\\lib\\site-packages (3.8.1)\n",
      "Note: you may need to restart the kernel to use updated packages.\n"
     ]
    }
   ],
   "source": [
    "pip install speechrecognition# if not worked in jupyter try to install in anaconda promt same comments for pyaudio"
   ]
  },
  {
   "cell_type": "code",
   "execution_count": 2,
   "metadata": {},
   "outputs": [
    {
     "name": "stdout",
     "output_type": "stream",
     "text": [
      "Requirement already satisfied: pyaudio in c:\\programdata\\anaconda3\\lib\\site-packages (0.2.11)\n",
      "Note: you may need to restart the kernel to use updated packages.\n"
     ]
    }
   ],
   "source": [
    "pip install pyaudio"
   ]
  },
  {
   "cell_type": "code",
   "execution_count": 4,
   "metadata": {},
   "outputs": [],
   "source": [
    "import speech_recognition as SRG\n",
    "import time"
   ]
  },
  {
   "cell_type": "code",
   "execution_count": 5,
   "metadata": {},
   "outputs": [
    {
     "name": "stdout",
     "output_type": "stream",
     "text": [
      "Speak..........\n",
      "Recording time: 04:13,30\n",
      "Text converted from audio:\n",
      "\n",
      "hello hello hello hello hello My name is Nilesh hello\n",
      "Finished!!\n",
      " Execution time: 04:13,32\n"
     ]
    }
   ],
   "source": [
    "store=SRG.Recognizer()\n",
    "with SRG.Microphone() as s:\n",
    "    print(\"Speak..........\")\n",
    "    audio_input=store.record(s, duration=10)\n",
    "    print(\"Recording time:\",time.strftime(\"%I:%M,%S\"))\n",
    "    try:\n",
    "        text_output=store.recognize_google(audio_input)\n",
    "        print(\"Text converted from audio:\\n\")\n",
    "        print(text_output)\n",
    "        print(\"Finished!!\")\n",
    "        \n",
    "        print(\" Execution time:\",time.strftime(\"%I:%M,%S\"))\n",
    "    except:\n",
    "        print(\"couldn't process the aaudio input\")"
   ]
  },
  {
   "cell_type": "code",
   "execution_count": null,
   "metadata": {},
   "outputs": [],
   "source": []
  }
 ],
 "metadata": {
  "kernelspec": {
   "display_name": "Python 3",
   "language": "python",
   "name": "python3"
  },
  "language_info": {
   "codemirror_mode": {
    "name": "ipython",
    "version": 3
   },
   "file_extension": ".py",
   "mimetype": "text/x-python",
   "name": "python",
   "nbconvert_exporter": "python",
   "pygments_lexer": "ipython3",
   "version": "3.7.3"
  }
 },
 "nbformat": 4,
 "nbformat_minor": 2
}
